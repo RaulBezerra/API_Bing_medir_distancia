{
  "cells": [
    {
      "cell_type": "markdown",
      "metadata": {},
      "source": [
        "## Imports"
      ]
    },
    {
      "cell_type": "code",
      "execution_count": 1,
      "metadata": {
        "id": "QoDTXk_2R8yy"
      },
      "outputs": [],
      "source": [
        "import pandas as pd\n",
        "import requests"
      ]
    },
    {
      "cell_type": "markdown",
      "metadata": {},
      "source": [
        "## Variáveis: endereços e chave"
      ]
    },
    {
      "cell_type": "code",
      "execution_count": 2,
      "metadata": {
        "colab": {
          "base_uri": "https://localhost:8080/",
          "height": 54
        },
        "id": "Z7BuDuXPXI4f",
        "outputId": "ba4a0ad5-d823-4124-937b-9980f86fd746"
      },
      "outputs": [
        {
          "data": {
            "application/vnd.google.colaboratory.intrinsic+json": {
              "type": "string"
            },
            "text/plain": [
              "'https://dev.virtualearth.net/REST/V1/Routes/Driving?wp.0=Av. Monsenhor Aloísio Pinto, 300 - Dom Expedito, Sobral - CE, 62050-255&wp.1=Av. Washington Soares, 85 - Edson Queiroz, Fortaleza - CE, 60811-340/&key=AlIWy9trMx8rp0VTNsTkfVoWZHp_u8c0kcdu2JN8veKJqIiHwFYvS9igLlb-wUEW'"
            ]
          },
          "execution_count": 2,
          "metadata": {},
          "output_type": "execute_result"
        }
      ],
      "source": [
        "# Endereço de origem\n",
        "origem = 'Av. Monsenhor Aloísio Pinto, 300 - Dom Expedito, Sobral - CE, 62050-255' #Endereço de origem em string\n",
        "\n",
        "# Endereço de destino\n",
        "destino = 'Av. Washington Soares, 85 - Edson Queiroz, Fortaleza - CE, 60811-340' #Endereço de destino em string\n",
        "\n",
        "# Chave do bing\n",
        "key = #CHAVE_DO_BING\n",
        "\n",
        "# Url para request\n",
        "route = 'https://dev.virtualearth.net/REST/V1/Routes/Driving?wp.0=' + origem + \"&wp.1=\" + destino + '/&key=' + key\n",
        "route"
      ]
    },
    {
      "cell_type": "markdown",
      "metadata": {},
      "source": [
        "## Request: devolve um arquivo em json"
      ]
    },
    {
      "cell_type": "code",
      "execution_count": 3,
      "metadata": {
        "id": "zvhO1_tTURe_"
      },
      "outputs": [],
      "source": [
        "r = requests.get(route)"
      ]
    },
    {
      "cell_type": "markdown",
      "metadata": {},
      "source": [
        "## Distância"
      ]
    },
    {
      "cell_type": "code",
      "execution_count": 4,
      "metadata": {
        "colab": {
          "base_uri": "https://localhost:8080/"
        },
        "id": "erZwwN6ojGeF",
        "outputId": "67bd709d-a2cd-4392-fd07-88b73b0dce3c"
      },
      "outputs": [
        {
          "name": "stdout",
          "output_type": "stream",
          "text": [
            "239.60km\n"
          ]
        }
      ],
      "source": [
        "# Distância em km\n",
        "dist_em_km = r.json()['resourceSets'][0]['resources'][0]['travelDistance']\n",
        "\n",
        "print(\"{:.2f}km\".format(dist_em_km))"
      ]
    }
  ],
  "metadata": {
    "colab": {
      "collapsed_sections": [],
      "name": "Script_distancia.ipynb",
      "provenance": []
    },
    "kernelspec": {
      "display_name": "Python 3",
      "name": "python3"
    },
    "language_info": {
      "name": "python"
    }
  },
  "nbformat": 4,
  "nbformat_minor": 0
}
